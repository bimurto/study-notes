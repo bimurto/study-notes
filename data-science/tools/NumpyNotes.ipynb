{
 "cells": [
  {
   "cell_type": "markdown",
   "metadata": {},
   "source": [
    "### Installing NumPy\n",
    "`conda install numpy`\n",
    "or\n",
    "`pip install numpy`\n",
    "\n",
    "### How to import NumPy\n",
    "`import numpy as np`\n",
    "\n",
    "### What’s the difference between a Python list and a NumPy array?\n",
    "NumPy gives you an enormous range of fast and efficient ways of creating arrays and manipulating numerical data inside them. While a Python list can contain different data types within a single list, all of the elements in a NumPy array should be homogeneous. The mathematical operations that are meant to be performed on arrays would be extremely inefficient if the arrays weren’t homogeneous.\n",
    "\n",
    "### Why use NumPy?\n",
    "NumPy arrays are faster and more compact than Python lists. An array consumes less memory and is convenient to use. NumPy uses much less memory to store data and it provides a mechanism of specifying the data types. This allows the code to be optimized even further.\n"
   ]
  },
  {
   "cell_type": "code",
   "execution_count": 3,
   "metadata": {},
   "outputs": [],
   "source": [
    "import numpy as np"
   ]
  },
  {
   "cell_type": "markdown",
   "metadata": {},
   "source": [
    "### How to create a basic array?\n",
    "\n",
    "np.array(), np.zeros(), np.ones(), np.empty(), np.arange(), np.linspace()"
   ]
  },
  {
   "cell_type": "code",
   "execution_count": 8,
   "metadata": {},
   "outputs": [
    {
     "name": "stdout",
     "output_type": "stream",
     "text": [
      "[1 2 3 4]\n"
     ]
    }
   ],
   "source": [
    "arr = np.array([1,2,3,4])\n",
    "print(arr)"
   ]
  },
  {
   "cell_type": "code",
   "execution_count": 12,
   "metadata": {},
   "outputs": [
    {
     "name": "stdout",
     "output_type": "stream",
     "text": [
      "[1. 2. 3. 4.]\n"
     ]
    }
   ],
   "source": [
    "arr = np.array([1,2,3,4], dtype = np.float32)\n",
    "print(arr)"
   ]
  },
  {
   "cell_type": "code",
   "execution_count": 16,
   "metadata": {},
   "outputs": [
    {
     "name": "stdout",
     "output_type": "stream",
     "text": [
      "[[1 2 3 4]\n",
      " [5 6 7 8]]\n"
     ]
    }
   ],
   "source": [
    "arr = np.array([[1,2,3,4],[5,6,7,8]])\n",
    "print(arr)"
   ]
  },
  {
   "cell_type": "code",
   "execution_count": 23,
   "metadata": {},
   "outputs": [
    {
     "name": "stdout",
     "output_type": "stream",
     "text": [
      "[[0. 0. 0.]\n",
      " [0. 0. 0.]]\n",
      "[[1. 1. 1.]\n",
      " [1. 1. 1.]]\n",
      "[[0.49708311 0.20264738 0.14856251]\n",
      " [0.65669588 0.34448032 0.18276768]]\n"
     ]
    }
   ],
   "source": [
    "arr = np.zeros((2,3))\n",
    "print(arr)\n",
    "arr = np.ones((2,3))\n",
    "print(arr)\n",
    "\n",
    "# ndArray with random number\n",
    "arr = np.random.rand(2,3)\n",
    "print(arr)"
   ]
  },
  {
   "cell_type": "code",
   "execution_count": 25,
   "metadata": {},
   "outputs": [
    {
     "name": "stdout",
     "output_type": "stream",
     "text": [
      "[[1. 0. 0.]\n",
      " [0. 1. 0.]\n",
      " [0. 0. 1.]]\n"
     ]
    }
   ],
   "source": [
    "# I matrix\n",
    "arr = np.eye(3)\n",
    "print(arr)"
   ]
  },
  {
   "cell_type": "code",
   "execution_count": 33,
   "metadata": {},
   "outputs": [
    {
     "name": "stdout",
     "output_type": "stream",
     "text": [
      "[0 1 2 3 4]\n",
      "[2 4 6 8]\n"
     ]
    }
   ],
   "source": [
    "# Evently spcaed ndarray\n",
    "arr = np.arange(5)\n",
    "print(arr)\n",
    "arr = np.arange(start=2,stop=10,step=2)\n",
    "print(arr)"
   ]
  },
  {
   "cell_type": "code",
   "execution_count": 36,
   "metadata": {},
   "outputs": [
    {
     "name": "stdout",
     "output_type": "stream",
     "text": [
      "[1.         1.02040816 1.04081633 1.06122449 1.08163265 1.10204082\n",
      " 1.12244898 1.14285714 1.16326531 1.18367347 1.20408163 1.2244898\n",
      " 1.24489796 1.26530612 1.28571429 1.30612245 1.32653061 1.34693878\n",
      " 1.36734694 1.3877551  1.40816327 1.42857143 1.44897959 1.46938776\n",
      " 1.48979592 1.51020408 1.53061224 1.55102041 1.57142857 1.59183673\n",
      " 1.6122449  1.63265306 1.65306122 1.67346939 1.69387755 1.71428571\n",
      " 1.73469388 1.75510204 1.7755102  1.79591837 1.81632653 1.83673469\n",
      " 1.85714286 1.87755102 1.89795918 1.91836735 1.93877551 1.95918367\n",
      " 1.97959184 2.        ]\n"
     ]
    }
   ],
   "source": [
    "# np.linspace Return evenly spaced numbers over a specified interval.\n",
    "arr = np.linspace(start=1,stop=2, num=50)\n",
    "print(arr)"
   ]
  },
  {
   "cell_type": "markdown",
   "metadata": {},
   "source": [
    "## Printing Arrays\n",
    "When you print an array, NumPy displays it in a similar way to nested lists, but with the following layout:\n",
    "\n",
    "* the last axis is printed from left to right,\n",
    "\n",
    "* the second-to-last is printed from top to bottom,\n",
    "\n",
    "* the rest are also printed from top to bottom, with each slice separated from the next by an empty line."
   ]
  },
  {
   "cell_type": "code",
   "execution_count": 97,
   "metadata": {},
   "outputs": [
    {
     "name": "stdout",
     "output_type": "stream",
     "text": [
      "Array 1:  \n",
      " [0 1 2 3 4 5]\n",
      "Array 2:  \n",
      " [[ 0  1  2]\n",
      " [ 3  4  5]\n",
      " [ 6  7  8]\n",
      " [ 9 10 11]]\n",
      "Array 3:  \n",
      " [[[ 0  1  2  3]\n",
      "  [ 4  5  6  7]\n",
      "  [ 8  9 10 11]]\n",
      "\n",
      " [[12 13 14 15]\n",
      "  [16 17 18 19]\n",
      "  [20 21 22 23]]]\n"
     ]
    }
   ],
   "source": [
    "a = np.arange(6)                         # 1d array\n",
    "print('Array 1: ', '\\n',a)\n",
    "b = np.arange(12).reshape(4,3)           # 2d array\n",
    "print('Array 2: ', '\\n',b)\n",
    "c = np.arange(24).reshape(2,3,4)         # 3d array\n",
    "print('Array 3: ', '\\n',c)"
   ]
  },
  {
   "cell_type": "markdown",
   "metadata": {},
   "source": [
    "## Copies and Views"
   ]
  },
  {
   "cell_type": "code",
   "execution_count": 99,
   "metadata": {},
   "outputs": [
    {
     "data": {
      "text/plain": [
       "True"
      ]
     },
     "execution_count": 99,
     "metadata": {},
     "output_type": "execute_result"
    }
   ],
   "source": [
    "# No copy at all\n",
    "a = np.arange(6)   \n",
    "b = a\n",
    "b is a"
   ]
  },
  {
   "cell_type": "code",
   "execution_count": 110,
   "metadata": {},
   "outputs": [
    {
     "name": "stdout",
     "output_type": "stream",
     "text": [
      "a :  [0 1 2 3 4 5]\n",
      "c :  [0 1 2 3 4 5]\n",
      "False\n",
      "True\n",
      "c :  [[0 1 2]\n",
      " [3 4 5]]\n",
      "(6,)\n",
      "c :  [[   0    1 1234]\n",
      " [   3    4    5]]\n",
      "a :  [   0    1 1234    3    4    5]\n"
     ]
    }
   ],
   "source": [
    "#View or Shallow Copy\n",
    "a = np.arange(6) \n",
    "print('a : ', a)\n",
    "c = a.view()\n",
    "print('c : ', c)\n",
    "print(c is a)\n",
    "print(c.base is a) # c is a view of the data owned by a\n",
    "c = c.reshape((2, 3)) \n",
    "print('c : ', c)\n",
    "print(a.shape) # a's shape doesn't change\n",
    "c[0, 2] = 1234\n",
    "print('c : ', c)\n",
    "print('a : ', a)"
   ]
  },
  {
   "cell_type": "markdown",
   "metadata": {},
   "source": [
    "Slicing an array returns a view of it:\n",
    "\n"
   ]
  },
  {
   "cell_type": "code",
   "execution_count": 112,
   "metadata": {},
   "outputs": [
    {
     "name": "stdout",
     "output_type": "stream",
     "text": [
      "a :  [0 1 2 3 4 5]\n",
      "c :  [0 1 2 3 4 5]\n",
      "False\n",
      "False\n"
     ]
    }
   ],
   "source": [
    "#Deep Copy\n",
    "a = np.arange(6) \n",
    "print('a : ', a)\n",
    "c = a.copy()\n",
    "print('c : ', c)\n",
    "print(c is a)\n",
    "print(c.base is a)"
   ]
  },
  {
   "cell_type": "markdown",
   "metadata": {},
   "source": [
    "## Shape and Reshaping of ndArrays"
   ]
  },
  {
   "cell_type": "code",
   "execution_count": null,
   "metadata": {},
   "outputs": [],
   "source": []
  },
  {
   "cell_type": "code",
   "execution_count": 41,
   "metadata": {},
   "outputs": [
    {
     "name": "stdout",
     "output_type": "stream",
     "text": [
      "Array:  [[[0.93015623 0.45972254 0.23927131 0.6599513 ]\n",
      "  [0.27647296 0.45986848 0.98210672 0.54242061]\n",
      "  [0.09520916 0.37985374 0.74065964 0.30989922]]\n",
      "\n",
      " [[0.62255624 0.80891048 0.81849312 0.82103094]\n",
      "  [0.30379527 0.44247961 0.5011124  0.30540235]\n",
      "  [0.70982198 0.5107274  0.66204653 0.48552047]]]\n",
      "Dimensions:  3\n",
      "Shape:  (2, 3, 4)\n",
      "Size:  24\n"
     ]
    }
   ],
   "source": [
    "arr = np.random.rand(2,3,4)\n",
    "print('Array: ', arr)\n",
    "print('Dimensions: ', arr.ndim)\n",
    "print('Shape: ', arr.shape)\n",
    "print('Size: ', arr.size)"
   ]
  },
  {
   "cell_type": "code",
   "execution_count": 45,
   "metadata": {},
   "outputs": [
    {
     "name": "stdout",
     "output_type": "stream",
     "text": [
      "[ 3  6  9 12]\n",
      "Three rows : \n",
      " [[ 3  6]\n",
      " [ 9 12]\n",
      " [18 24]]\n",
      "Three columns : \n",
      " [[ 3  6  9]\n",
      " [12 18 24]]\n"
     ]
    }
   ],
   "source": [
    "# Reshaping a ndArray\n",
    "a = np.array([3,6,9,12])\n",
    "np.reshape(a,(2,2))\n",
    "print(a)\n",
    "\n",
    "# -1 will auto calcualte the axis\n",
    "a = np.array([3,6,9,12,18,24])\n",
    "print('Three rows :','\\n',np.reshape(a,(3,-1)))\n",
    "print('Three columns :','\\n',np.reshape(a,(-1,3)))"
   ]
  },
  {
   "cell_type": "code",
   "execution_count": 47,
   "metadata": {},
   "outputs": [
    {
     "name": "stdout",
     "output_type": "stream",
     "text": [
      "Original shape : (2, 2)\n",
      "Array : \n",
      " [[1. 1.]\n",
      " [1. 1.]]\n",
      "Shape after flatten : (4,)\n",
      "Array : \n",
      " [1. 1. 1. 1.]\n",
      "Shape after ravel : (4,)\n",
      "Array : \n",
      " [1. 1. 1. 1.]\n"
     ]
    }
   ],
   "source": [
    "# Flattening a ndArray\n",
    "a = np.ones((2,2))\n",
    "b = a.flatten()\n",
    "c = a.ravel()\n",
    "print('Original shape :', a.shape)\n",
    "print('Array :','\\n', a)\n",
    "print('Shape after flatten :',b.shape)\n",
    "print('Array :','\\n', b)\n",
    "print('Shape after ravel :',c.shape)\n",
    "print('Array :','\\n', c)"
   ]
  },
  {
   "cell_type": "markdown",
   "metadata": {},
   "source": [
    "But an important difference between flatten() and ravel() is that the former returns a copy of the original array while the latter returns a reference to the original array. This means any changes made to the array returned from ravel() will also be reflected in the original array while this will not be the case with flatten()."
   ]
  },
  {
   "cell_type": "code",
   "execution_count": 49,
   "metadata": {},
   "outputs": [
    {
     "name": "stdout",
     "output_type": "stream",
     "text": [
      "Original \n",
      " Shape (2, 3) \n",
      " [[1 2 3]\n",
      " [4 5 6]]\n",
      "Expand along columns: \n",
      " Shape (3, 2) \n",
      " [[1 4]\n",
      " [2 5]\n",
      " [3 6]]\n"
     ]
    }
   ],
   "source": [
    "# Transpose of a NumPy array\n",
    "a = np.array([[1,2,3],\n",
    "[4,5,6]])\n",
    "b = np.transpose(a)\n",
    "print('Original','\\n','Shape',a.shape,'\\n',a)\n",
    "print('Expand along columns:','\\n','Shape',b.shape,'\\n',b)\n"
   ]
  },
  {
   "cell_type": "markdown",
   "metadata": {},
   "source": [
    "## Indexing and Slicing of NumPy array"
   ]
  },
  {
   "cell_type": "code",
   "execution_count": 59,
   "metadata": {},
   "outputs": [
    {
     "name": "stdout",
     "output_type": "stream",
     "text": [
      "4\n",
      "[2 4]\n"
     ]
    }
   ],
   "source": [
    "# Slicing 1-D NumPy arrays\n",
    "# index format = [start:end:step-size]\n",
    "# slicing includes the start index but excludes the end index.\n",
    "# default start is 0 and step-size is 1\n",
    "a = np.array([1,2,3,4,5,6])\n",
    "print(a[3])\n",
    "print(a[1:5:2])"
   ]
  },
  {
   "cell_type": "code",
   "execution_count": 58,
   "metadata": {},
   "outputs": [
    {
     "name": "stdout",
     "output_type": "stream",
     "text": [
      "[[0.77140925 0.12681755 0.34290527 0.21559769]\n",
      " [0.9308305  0.30705729 0.75882857 0.45628551]\n",
      " [0.49709546 0.42892444 0.25729888 0.89437388]]\n",
      "0.3429052730243729\n",
      "0.45628550695038494\n",
      "0.894373880825089\n"
     ]
    }
   ],
   "source": [
    "# Slicing 2-D NumPy arrays\n",
    "a = np.random.rand(3,4)\n",
    "print(a)\n",
    "print(a[0,2])\n",
    "print(a[1,3])\n",
    "print(a[2,3])"
   ]
  },
  {
   "cell_type": "code",
   "execution_count": 64,
   "metadata": {},
   "outputs": [
    {
     "name": "stdout",
     "output_type": "stream",
     "text": [
      "[[0.49323184 0.76179554 0.83524665 0.32677016]\n",
      " [0.63696938 0.05766509 0.54672443 0.72668904]\n",
      " [0.95465852 0.87349783 0.15119453 0.22443561]]\n",
      "First row values : \n",
      " [[0.49323184 0.76179554 0.83524665 0.32677016]]\n",
      "Alternate values from first row: \n",
      " [[0.49323184 0.83524665]]\n",
      "Second column values : \n",
      " [[0.76179554]\n",
      " [0.05766509]\n",
      " [0.87349783]]\n",
      "Arbitrary values : \n",
      " [[0.76179554 0.83524665]]\n"
     ]
    }
   ],
   "source": [
    "a = np.random.rand(3,4)\n",
    "print(a)\n",
    "# print first row values\n",
    "print('First row values :','\\n',a[0:1,:])\n",
    "# with step-size for columns\n",
    "print('Alternate values from first row:','\\n',a[0:1,::2])\n",
    "# \n",
    "print('Second column values :','\\n',a[:,1:2])\n",
    "print('Arbitrary values :','\\n',a[0:1,1:3])\n"
   ]
  },
  {
   "cell_type": "code",
   "execution_count": 71,
   "metadata": {},
   "outputs": [
    {
     "name": "stdout",
     "output_type": "stream",
     "text": [
      "[[[ 1  2]\n",
      "  [ 3  4]\n",
      "  [ 5  6]]\n",
      "\n",
      " [[ 7  8]\n",
      "  [ 9 10]\n",
      "  [11 12]]\n",
      "\n",
      " [[13 14]\n",
      "  [15 16]\n",
      "  [17 18]]]\n",
      "First array, first row, first column value : \n",
      " 1\n",
      "First array last column : \n",
      " [14 16 18]\n",
      "First two rows for second and third arrays : \n",
      " [[[ 7  8]\n",
      "  [ 9 10]]\n",
      "\n",
      " [[13 14]\n",
      "  [15 16]]]\n"
     ]
    }
   ],
   "source": [
    "a = np.array([\n",
    "    [[1,2],[3,4],[5,6]],# first axis array\n",
    "    [[7,8],[9,10],[11,12]],# second axis array\n",
    "    [[13,14],[15,16],[17,18]] # third axis array\n",
    "])\n",
    "# 3-D array\n",
    "print(a)\n",
    "# value\n",
    "print('First array, first row, first column value :','\\n',a[0,0,0])\n",
    "print('First array last column :','\\n',a[0,:,1])\n",
    "print('First two rows for second and third arrays :','\\n',a[1:,0:2,0:2])"
   ]
  },
  {
   "cell_type": "markdown",
   "metadata": {},
   "source": [
    "## Stacking and Concatenating NumPy arrays\n",
    "#### Stacking ndarrays\n",
    "You can create a new array by combining existing arrays. This you can do in two ways:\n",
    "\n",
    "* Either combine the arrays vertically (i.e. along the rows) using the vstack() method, thereby increasing the number of rows in the resulting array\n",
    "* Or combine the arrays in a horizontal fashion (i.e. along the columns) using the hstack(), thereby increasing the number of columns in the resultant array"
   ]
  },
  {
   "cell_type": "code",
   "execution_count": 73,
   "metadata": {},
   "outputs": [
    {
     "name": "stdout",
     "output_type": "stream",
     "text": [
      "Array 1 : \n",
      " [0 1 2 3 4]\n",
      "Array 2 : \n",
      " [5 6 7 8 9]\n",
      "Vertical stacking : \n",
      " [[0 1 2 3 4]\n",
      " [5 6 7 8 9]]\n",
      "Horizontal stacking : \n",
      " [0 1 2 3 4 5 6 7 8 9]\n"
     ]
    }
   ],
   "source": [
    "a = np.arange(0,5)\n",
    "b = np.arange(5,10)\n",
    "print('Array 1 :','\\n',a)\n",
    "print('Array 2 :','\\n',b)\n",
    "print('Vertical stacking :','\\n',np.vstack((a,b)))\n",
    "print('Horizontal stacking :','\\n',np.hstack((a,b)))"
   ]
  },
  {
   "cell_type": "code",
   "execution_count": 75,
   "metadata": {},
   "outputs": [
    {
     "name": "stdout",
     "output_type": "stream",
     "text": [
      "Array 1 : \n",
      " [[0 1 2 3 4]]\n",
      "Array 2 : \n",
      " [[5 6 7 8 9]]\n",
      "Concatenate along rows : \n",
      " [[0 1 2 3 4]\n",
      " [5 6 7 8 9]]\n",
      "Concatenate along columns : \n",
      " [[0 1 2 3 4 5 6 7 8 9]]\n"
     ]
    }
   ],
   "source": [
    "# Concatenating ndarrays\n",
    "a = np.arange(0,5).reshape(1,5)\n",
    "b = np.arange(5,10).reshape(1,5)\n",
    "print('Array 1 :','\\n',a)\n",
    "print('Array 2 :','\\n',b)\n",
    "print('Concatenate along rows :','\\n',np.concatenate((a,b),axis=0))\n",
    "print('Concatenate along columns :','\\n',np.concatenate((a,b),axis=1))"
   ]
  },
  {
   "cell_type": "code",
   "execution_count": 77,
   "metadata": {},
   "outputs": [
    {
     "data": {
      "text/plain": [
       "array([[1, 2],\n",
       "       [3, 4],\n",
       "       [5, 6]])"
      ]
     },
     "execution_count": 77,
     "metadata": {},
     "output_type": "execute_result"
    }
   ],
   "source": [
    "# append values to ndarray\n",
    "a = np.array([[1,2],\n",
    "             [3,4]])\n",
    "np.append(a,[[5,6]], axis=0)"
   ]
  },
  {
   "cell_type": "markdown",
   "metadata": {},
   "source": [
    "## Broadcasting in NumPy arrays – A class apart!\n",
    "Broadcasting is one of the best features of ndarrays. It lets you perform arithmetics operations between ndarrays of different sizes or between an ndarray and a simple number!\n",
    "\n",
    "Broadcasting essentially stretches the smaller ndarray so that it matches the shape of the larger ndarray:"
   ]
  },
  {
   "cell_type": "code",
   "execution_count": 83,
   "metadata": {},
   "outputs": [
    {
     "name": "stdout",
     "output_type": "stream",
     "text": [
      "Array 1 : \n",
      " [10 12 14 16 18]\n",
      "Array 2 : \n",
      " [[2]\n",
      " [2]]\n",
      "Adding two different size arrays : \n",
      " [[12 14 16 18 20]\n",
      " [12 14 16 18 20]]\n",
      "Multiplying two different size arrays : \n",
      " [[20 24 28 32 36]\n",
      " [20 24 28 32 36]]\n",
      "Multiplying an ndarray and a number : [20 24 28 32 36]\n"
     ]
    }
   ],
   "source": [
    "a = np.arange(10,20,2)\n",
    "b = np.array([[2],[2]])\n",
    "print('Array 1 :','\\n',a)\n",
    "print('Array 2 :','\\n',b)\n",
    "print('Adding two different size arrays :','\\n',a+b)\n",
    "print('Multiplying two different size arrays :','\\n',a*b)\n",
    "print('Multiplying an ndarray and a number :',a*2)\n"
   ]
  },
  {
   "cell_type": "markdown",
   "metadata": {},
   "source": [
    "## Maths with NumPy arrays"
   ]
  },
  {
   "cell_type": "code",
   "execution_count": 86,
   "metadata": {},
   "outputs": [
    {
     "name": "stdout",
     "output_type": "stream",
     "text": [
      "Subtract : [-4 -3 -2 -1  0]\n",
      "Multiply : [ 5 10 15 20 25]\n",
      "Divide : [0.2 0.4 0.6 0.8 1. ]\n",
      "Power : [ 1  4  9 16 25]\n",
      "Remainder : [1 2 3 4 0]\n"
     ]
    }
   ],
   "source": [
    "# Basic arithmetic operations on NumPy arrays\n",
    "a = np.arange(1,6)\n",
    "\n",
    "print('Subtract :',a-5)\n",
    "print('Multiply :',a*5)\n",
    "print('Divide :',a/5)\n",
    "print('Power :',a**2)\n",
    "print('Remainder :',a%5)\n"
   ]
  },
  {
   "cell_type": "code",
   "execution_count": 90,
   "metadata": {},
   "outputs": [
    {
     "name": "stdout",
     "output_type": "stream",
     "text": [
      "Mean : 0.4655243677946497\n",
      "Standard deviation : 0.2934990850626667\n",
      "Median : 0.4770965300389343\n"
     ]
    }
   ],
   "source": [
    "# Mean, Median and Standard deviation\n",
    "a = np.random.rand(3,4,4)\n",
    "print('Mean :',np.mean(a))\n",
    "print('Standard deviation :',np.std(a))\n",
    "print('Median :',np.median(a))"
   ]
  },
  {
   "cell_type": "code",
   "execution_count": 92,
   "metadata": {},
   "outputs": [
    {
     "name": "stdout",
     "output_type": "stream",
     "text": [
      "Min : [1 3]\n",
      "Max : [6 4]\n"
     ]
    }
   ],
   "source": [
    "# Min-Max values and their indexes\n",
    "a = np.array([[1,6],\n",
    "[4,3]])\n",
    "# minimum along a column\n",
    "print('Min :',np.min(a,axis=0))\n",
    "# maximum along a row\n",
    "print('Max :',np.max(a,axis=1))"
   ]
  },
  {
   "cell_type": "code",
   "execution_count": 93,
   "metadata": {},
   "outputs": [
    {
     "name": "stdout",
     "output_type": "stream",
     "text": [
      "Min : [0 1 0]\n",
      "Max : [1 2]\n"
     ]
    }
   ],
   "source": [
    "# get index of min and max\n",
    "a = np.array([[1,6,5],\n",
    "[4,3,7]])\n",
    "# minimum along a column\n",
    "print('Min :',np.argmin(a,axis=0))\n",
    "# maximum along a row\n",
    "print('Max :',np.argmax(a,axis=1))\n"
   ]
  },
  {
   "cell_type": "markdown",
   "metadata": {},
   "source": [
    "## Universal Functions\n",
    "NumPy provides familiar mathematical functions such as sin, cos, and exp. In NumPy, these are called “universal functions”(ufunc). Within NumPy, these functions operate elementwise on an array, producing an array as output.\n",
    "\n",
    "List: all, any, apply_along_axis, argmax, argmin, argsort, average, bincount, ceil, clip, conj, corrcoef, cov, cross, cumprod, cumsum, diff, dot, floor, inner, invert, lexsort, max, maximum, mean, median, min, minimum, nonzero, outer, prod, re, round, sort, std, sum, trace, transpose, var, vdot, vectorize, where\n",
    "\n"
   ]
  },
  {
   "cell_type": "markdown",
   "metadata": {},
   "source": [
    "## Linear Algebra\n"
   ]
  },
  {
   "cell_type": "code",
   "execution_count": 114,
   "metadata": {},
   "outputs": [
    {
     "name": "stdout",
     "output_type": "stream",
     "text": [
      "[[1. 2.]\n",
      " [3. 4.]]\n",
      "[[-1.  0.]\n",
      " [ 0. -1.]]\n",
      "[[-3.]\n",
      " [ 4.]]\n"
     ]
    }
   ],
   "source": [
    "a = np.array([[1.0, 2.0], [3.0, 4.0]])\n",
    "print(a)\n",
    "np.linalg.inv(a)\n",
    "j = np.array([[0.0, -1.0], [1.0, 0.0]])\n",
    "print(j @ j )       # matrix product\n",
    "y = np.array([[5.], [7.]])\n",
    "print(np.linalg.solve(a, y))"
   ]
  }
 ],
 "metadata": {
  "kernelspec": {
   "display_name": "Python 3",
   "language": "python",
   "name": "python3"
  },
  "language_info": {
   "codemirror_mode": {
    "name": "ipython",
    "version": 3
   },
   "file_extension": ".py",
   "mimetype": "text/x-python",
   "name": "python",
   "nbconvert_exporter": "python",
   "pygments_lexer": "ipython3",
   "version": "3.8.5"
  }
 },
 "nbformat": 4,
 "nbformat_minor": 4
}
